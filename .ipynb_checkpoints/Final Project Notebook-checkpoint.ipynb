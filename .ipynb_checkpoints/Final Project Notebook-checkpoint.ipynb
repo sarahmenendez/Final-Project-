{
 "cells": [
  {
   "cell_type": "markdown",
   "metadata": {},
   "source": [
    "# Final Project Notebook"
   ]
  },
  {
   "cell_type": "markdown",
   "metadata": {},
   "source": [
    "\n",
    "# Intro\n",
    "Our project looks uses three datasets with information about neighborhoods in Pittsburgh. Each dataset is analyzed to determine the best neighborhood according to that metric. Then data from all three datasets were analyzed together to determine the overall best neighborhood. We each used bar graphs and dictionaries to display and store our data. Since the beginning of the project, we decided on an environmentally driven metric because we think a healthy environment is an important attribute of neighborhoods. We stuck with this throughout the whole project."
   ]
  },
  {
   "cell_type": "markdown",
   "metadata": {},
   "source": [
    "# Metric\n",
    "Our metric is the quality of environment. \n",
    "Metrics we looked at \n",
    "* number of parks\n",
    "* tons of dump emptied illegally\n",
    "* number of smart trash cans\n",
    "\n",
    "Datasets used:\n",
    "* City of Pittsburgh Parks\n",
    "* Allegheny County Illegal Dump Sites\n",
    "* Smart Trash Containers"
   ]
  },
  {
   "cell_type": "markdown",
   "metadata": {},
   "source": [
    "This code creates the dictionaries that store the scores for each neighborhood for each dataset individually."
   ]
  },
  {
   "cell_type": "code",
   "execution_count": null,
   "metadata": {},
   "outputs": [],
   "source": [
    "parks = dict()\n",
    "parks = {'Bedford Dwellings': 1, 'Bon Air': 1, 'Windgap': 1, 'Homewood West': 1, 'Arlington': 1, 'Stanton Heights': 1, 'East Carnegie': 1, 'East Hills': 1, 'Esplen': 1, 'Fairywood': 1, 'North Oakland': 1, 'Hays': 1, 'Homewood South': 1, 'Morningside': 1, 'Central Lawrenceville': 1, 'Oakwood': 1, 'Regent Square': 1, 'Upper Hill': 1, 'New Homestead': 1, 'West Oakland': 1, 'Bluff': 1, 'Middle Hill': 1, 'Squirrel Hill North': 1, 'Allegheny Center': 2, 'Banksville': 2, 'Homewood North': 2, 'Spring Garden': 2, 'Perry South': 2, 'Strip District': 2, 'Crafton Heights': 2, 'Allentown': 2, 'Duquesne Heights': 2, 'Fineview': 2, 'Perry North': 2, 'Highland Park': 2, 'Terrace Village': 2, 'Lincoln Place': 2, 'Polish Hill': 2, 'West End': 2, 'Crawford-Roberts': 2, 'North Shore': 2, 'Central Northside': 2, 'Lower Lawrenceville': 2, 'Brookline': 2, 'Lincoln-Lemington-Belmar': 2, 'Westwood': 2, 'Upper Lawrenceville': 2, 'Garfield': 2, 'Greenfield': 2, 'Larimer': 2, 'Bloomfield': 2, 'Spring Hill-City View': 2, 'Carrick': 2, 'Manchester': 2, 'Beltzhoover': 2, 'Point Breeze North': 2, 'Swisshelm Park': 2, 'Central Oakland': 3, 'Brighton Heights': 3, 'Elliott': 3, 'Marshall-Shadeland': 3, 'South Oakland': 3, 'Troy Hill': 3, 'South Side Flats': 4, 'Hazelwood': 4, 'Squirrel Hill South': 4, 'Mount Washington': 4, 'Sheraden': 4, 'South Side Slopes': 4, 'Point Breeze': 4, 'Beechview': 5, 'Central Business District': 5, 'East Liberty': 5}\n"
   ]
  },
  {
   "cell_type": "markdown",
   "metadata": {},
   "source": [
    "# Conclusion\n",
    "    Reflect on how the data driven determination of “best neighborhood” is the same or different from your personal favorite \n",
    "    neighborhood. Each member of the group should write their own response to this."
   ]
  },
  {
   "cell_type": "code",
   "execution_count": null,
   "metadata": {},
   "outputs": [],
   "source": []
  }
 ],
 "metadata": {
  "kernelspec": {
   "display_name": "Python 3",
   "language": "python",
   "name": "python3"
  },
  "language_info": {
   "codemirror_mode": {
    "name": "ipython",
    "version": 3
   },
   "file_extension": ".py",
   "mimetype": "text/x-python",
   "name": "python",
   "nbconvert_exporter": "python",
   "pygments_lexer": "ipython3",
   "version": "3.8.3"
  }
 },
 "nbformat": 4,
 "nbformat_minor": 4
}
