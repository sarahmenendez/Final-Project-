{
 "cells": [
  {
   "cell_type": "markdown",
   "metadata": {},
   "source": [
    "# Sarah's Notebook: Illegal Dump Sites"
   ]
  },
  {
   "cell_type": "code",
   "execution_count": 1,
   "metadata": {},
   "outputs": [
    {
     "data": {
      "text/html": [
       "<div>\n",
       "<style scoped>\n",
       "    .dataframe tbody tr th:only-of-type {\n",
       "        vertical-align: middle;\n",
       "    }\n",
       "\n",
       "    .dataframe tbody tr th {\n",
       "        vertical-align: top;\n",
       "    }\n",
       "\n",
       "    .dataframe thead th {\n",
       "        text-align: right;\n",
       "    }\n",
       "</style>\n",
       "<table border=\"1\" class=\"dataframe\">\n",
       "  <thead>\n",
       "    <tr style=\"text-align: right;\">\n",
       "      <th></th>\n",
       "      <th>site_name</th>\n",
       "      <th>Status</th>\n",
       "      <th>City</th>\n",
       "      <th>Neighborhood</th>\n",
       "      <th>estimated_tons</th>\n",
       "      <th>location_description</th>\n",
       "      <th>latitude</th>\n",
       "      <th>longitude</th>\n",
       "      <th>Unnamed: 8</th>\n",
       "    </tr>\n",
       "  </thead>\n",
       "  <tbody>\n",
       "    <tr>\n",
       "      <th>0</th>\n",
       "      <td>St. Martin Street</td>\n",
       "      <td>Surveyed</td>\n",
       "      <td>Pittsburgh</td>\n",
       "      <td>Allentown</td>\n",
       "      <td>0.5</td>\n",
       "      <td>NaN</td>\n",
       "      <td>40.42221971</td>\n",
       "      <td>-79.99022525</td>\n",
       "      <td>NaN</td>\n",
       "    </tr>\n",
       "    <tr>\n",
       "      <th>1</th>\n",
       "      <td>Brosville Street</td>\n",
       "      <td>Surveyed</td>\n",
       "      <td>Pittsburgh</td>\n",
       "      <td>Allentown</td>\n",
       "      <td>3</td>\n",
       "      <td>NaN</td>\n",
       "      <td>40.42370101</td>\n",
       "      <td>-79.98657393</td>\n",
       "      <td>NaN</td>\n",
       "    </tr>\n",
       "    <tr>\n",
       "      <th>2</th>\n",
       "      <td>McCain Street</td>\n",
       "      <td>Surveyed</td>\n",
       "      <td>Pittsburgh</td>\n",
       "      <td>Allentown</td>\n",
       "      <td>1</td>\n",
       "      <td>NaN</td>\n",
       "      <td>40.42427063</td>\n",
       "      <td>-79.99022675</td>\n",
       "      <td>NaN</td>\n",
       "    </tr>\n",
       "    <tr>\n",
       "      <th>3</th>\n",
       "      <td>Ceres Way</td>\n",
       "      <td>Surveyed</td>\n",
       "      <td>Pittsburgh</td>\n",
       "      <td>Allentown</td>\n",
       "      <td>0.5</td>\n",
       "      <td>NaN</td>\n",
       "      <td>40.42327242</td>\n",
       "      <td>-79.99248958</td>\n",
       "      <td>NaN</td>\n",
       "    </tr>\n",
       "    <tr>\n",
       "      <th>4</th>\n",
       "      <td>Eureka Street</td>\n",
       "      <td>Completed</td>\n",
       "      <td>Pittsburgh</td>\n",
       "      <td>Allentown</td>\n",
       "      <td>0.1</td>\n",
       "      <td>NaN</td>\n",
       "      <td>40.42372131</td>\n",
       "      <td>-79.99478912</td>\n",
       "      <td>NaN</td>\n",
       "    </tr>\n",
       "  </tbody>\n",
       "</table>\n",
       "</div>"
      ],
      "text/plain": [
       "           site_name     Status        City Neighborhood estimated_tons  \\\n",
       "0  St. Martin Street   Surveyed  Pittsburgh    Allentown            0.5   \n",
       "1   Brosville Street   Surveyed  Pittsburgh    Allentown              3   \n",
       "2      McCain Street   Surveyed  Pittsburgh    Allentown              1   \n",
       "3          Ceres Way   Surveyed  Pittsburgh    Allentown            0.5   \n",
       "4      Eureka Street  Completed  Pittsburgh    Allentown            0.1   \n",
       "\n",
       "  location_description     latitude     longitude  Unnamed: 8  \n",
       "0                  NaN  40.42221971  -79.99022525         NaN  \n",
       "1                  NaN  40.42370101  -79.98657393         NaN  \n",
       "2                  NaN  40.42427063  -79.99022675         NaN  \n",
       "3                  NaN  40.42327242  -79.99248958         NaN  \n",
       "4                  NaN  40.42372131  -79.99478912         NaN  "
      ]
     },
     "execution_count": 1,
     "metadata": {},
     "output_type": "execute_result"
    }
   ],
   "source": [
    "import pandas as pd\n",
    "dumpsites = pd.read_csv(\"illegaldumpsites.csv\")\n",
    "dumpsites.head()\n",
    "#printing out the first couple values in the dataset"
   ]
  },
  {
   "cell_type": "code",
   "execution_count": 2,
   "metadata": {},
   "outputs": [
    {
     "data": {
      "text/html": [
       "<div>\n",
       "<style scoped>\n",
       "    .dataframe tbody tr th:only-of-type {\n",
       "        vertical-align: middle;\n",
       "    }\n",
       "\n",
       "    .dataframe tbody tr th {\n",
       "        vertical-align: top;\n",
       "    }\n",
       "\n",
       "    .dataframe thead th {\n",
       "        text-align: right;\n",
       "    }\n",
       "</style>\n",
       "<table border=\"1\" class=\"dataframe\">\n",
       "  <thead>\n",
       "    <tr style=\"text-align: right;\">\n",
       "      <th></th>\n",
       "      <th>City</th>\n",
       "      <th>Neighborhood</th>\n",
       "      <th>estimated_tons</th>\n",
       "    </tr>\n",
       "  </thead>\n",
       "  <tbody>\n",
       "    <tr>\n",
       "      <th>0</th>\n",
       "      <td>Pittsburgh</td>\n",
       "      <td>Allentown</td>\n",
       "      <td>0.5</td>\n",
       "    </tr>\n",
       "    <tr>\n",
       "      <th>1</th>\n",
       "      <td>Pittsburgh</td>\n",
       "      <td>Allentown</td>\n",
       "      <td>3</td>\n",
       "    </tr>\n",
       "    <tr>\n",
       "      <th>2</th>\n",
       "      <td>Pittsburgh</td>\n",
       "      <td>Allentown</td>\n",
       "      <td>1</td>\n",
       "    </tr>\n",
       "    <tr>\n",
       "      <th>3</th>\n",
       "      <td>Pittsburgh</td>\n",
       "      <td>Allentown</td>\n",
       "      <td>0.5</td>\n",
       "    </tr>\n",
       "    <tr>\n",
       "      <th>4</th>\n",
       "      <td>Pittsburgh</td>\n",
       "      <td>Allentown</td>\n",
       "      <td>0.1</td>\n",
       "    </tr>\n",
       "    <tr>\n",
       "      <th>...</th>\n",
       "      <td>...</td>\n",
       "      <td>...</td>\n",
       "      <td>...</td>\n",
       "    </tr>\n",
       "    <tr>\n",
       "      <th>859</th>\n",
       "      <td>Pittsburgh</td>\n",
       "      <td>West Oakland</td>\n",
       "      <td>2.5</td>\n",
       "    </tr>\n",
       "    <tr>\n",
       "      <th>860</th>\n",
       "      <td>Pittsburgh</td>\n",
       "      <td>West Oakland</td>\n",
       "      <td>2</td>\n",
       "    </tr>\n",
       "    <tr>\n",
       "      <th>864</th>\n",
       "      <td>Pittsburgh</td>\n",
       "      <td>West Wood</td>\n",
       "      <td>1</td>\n",
       "    </tr>\n",
       "    <tr>\n",
       "      <th>881</th>\n",
       "      <td>Pittsburgh</td>\n",
       "      <td>Windgap</td>\n",
       "      <td>2</td>\n",
       "    </tr>\n",
       "    <tr>\n",
       "      <th>882</th>\n",
       "      <td>Pittsburgh</td>\n",
       "      <td>Windgap</td>\n",
       "      <td>0.5</td>\n",
       "    </tr>\n",
       "  </tbody>\n",
       "</table>\n",
       "<p>636 rows × 3 columns</p>\n",
       "</div>"
      ],
      "text/plain": [
       "           City  Neighborhood estimated_tons\n",
       "0    Pittsburgh     Allentown            0.5\n",
       "1    Pittsburgh     Allentown              3\n",
       "2    Pittsburgh     Allentown              1\n",
       "3    Pittsburgh     Allentown            0.5\n",
       "4    Pittsburgh     Allentown            0.1\n",
       "..          ...           ...            ...\n",
       "859  Pittsburgh  West Oakland            2.5\n",
       "860  Pittsburgh  West Oakland              2\n",
       "864  Pittsburgh     West Wood              1\n",
       "881  Pittsburgh       Windgap              2\n",
       "882  Pittsburgh       Windgap            0.5\n",
       "\n",
       "[636 rows x 3 columns]"
      ]
     },
     "execution_count": 2,
     "metadata": {},
     "output_type": "execute_result"
    }
   ],
   "source": [
    "dumpsite_mask = dumpsites['City'] == \"Pittsburgh\"\n",
    "correct_neighborhoods = dumpsites[dumpsite_mask]\n",
    "correct_neighborhoods.drop(['site_name','Status','location_description','latitude','longitude','Unnamed: 8'], axis=1)\n",
    "#Here is a complete list of all of the neighborhoods that reside within Pittsburgh city limits"
   ]
  },
  {
   "cell_type": "code",
   "execution_count": 3,
   "metadata": {},
   "outputs": [
    {
     "name": "stdout",
     "output_type": "stream",
     "text": [
      "{'Allentown': 10.4, 'Arlington': 17.5, 'Banksville': 1.0, 'Bedford Dwellings': 1.0, 'Beechview': 11.0, 'Bloomfield': 5.0, 'Bluff': 1.0, 'Borough of Millvale': 1.0, 'Brookline': 35.7, 'California-Kirkbride': 1.3, 'Central Northside': 5.3, 'Central Oakland': 1.5, 'Chartiers City': 9.399999999999999, 'Crafton Heights': 3.5999999999999996, 'Crawford Roberts-Hill': 12.3, 'Downtown': 2.0, 'Duck Hollow': 102.3, 'Duquesne Heights': 19.0, 'East Carnegie': 1.6, 'East Hills': 17.8, 'Elliott': 7.3, 'Esplen': 15.0, 'Fairywood': 10.0, 'Glen Hazel': 2.0, 'Hays': 1.3, 'Highland Park': 2.0, 'Highland Park/Larimer': 25.0, 'Homewood North': 8.0, 'Homewood South': 12.900000000000002, 'Homewood West': 0.5, 'Knoxville': 9.5, 'Larimer': 16.900000000000002, 'Lincoln-Lemington-Belmar': 49.599999999999994, 'Morningside': 3.0, 'Mt. Washington': 13.2, 'New Homestead': 19.5, 'North Oakland': 6.5, 'North Shore': 1.5, 'Northview Heights': 1.0, 'Overbrook': 3.2, 'Penn Hills': 3.0, 'Perry North': 9.200000000000001, 'Point Breeze North': 0.3, 'Polish Hill': 5.3, 'Saint Clair': 3.0, 'Sharpsburg': 1.0, 'South Oakland': 4.3, 'Southside Slopes': 5.0, 'Spring Garden': 9.6, 'Spring Hill': 38.800000000000004, 'Squirrel Hill South': 5.3, 'Stanton Heights': 21.7, 'Strip District': 0.3, 'Summer Hill': 1.6, 'Swisshelm Park': 4.5, 'Terrace Village': 2.5, 'Troy Hill': 8.100000000000001, 'Upper Hill': 7.3999999999999995, 'West End': 47.199999999999974, 'West Oakland': 17.3, 'West Wood': 1.0, 'Windgap': 2.5}\n",
      "{'Point Breeze North': 0.3, 'Strip District': 0.3, 'Homewood West': 0.5, 'Banksville': 1.0, 'Bedford Dwellings': 1.0, 'Bluff': 1.0, 'Borough of Millvale': 1.0, 'Northview Heights': 1.0, 'Sharpsburg': 1.0, 'West Wood': 1.0, 'California-Kirkbride': 1.3, 'Hays': 1.3, 'Central Oakland': 1.5, 'North Shore': 1.5, 'East Carnegie': 1.6, 'Summer Hill': 1.6, 'Downtown': 2.0, 'Glen Hazel': 2.0, 'Highland Park': 2.0, 'Terrace Village': 2.5, 'Windgap': 2.5, 'Morningside': 3.0, 'Penn Hills': 3.0, 'Saint Clair': 3.0, 'Overbrook': 3.2, 'Crafton Heights': 3.5999999999999996, 'South Oakland': 4.3, 'Swisshelm Park': 4.5, 'Bloomfield': 5.0, 'Southside Slopes': 5.0, 'Central Northside': 5.3, 'Polish Hill': 5.3, 'Squirrel Hill South': 5.3, 'North Oakland': 6.5, 'Elliott': 7.3, 'Upper Hill': 7.3999999999999995, 'Homewood North': 8.0, 'Troy Hill': 8.100000000000001, 'Perry North': 9.200000000000001, 'Chartiers City': 9.399999999999999, 'Knoxville': 9.5, 'Spring Garden': 9.6, 'Fairywood': 10.0, 'Allentown': 10.4, 'Beechview': 11.0, 'Crawford Roberts-Hill': 12.3, 'Homewood South': 12.900000000000002, 'Mt. Washington': 13.2, 'Esplen': 15.0, 'Larimer': 16.900000000000002, 'West Oakland': 17.3, 'Arlington': 17.5, 'East Hills': 17.8, 'Duquesne Heights': 19.0, 'New Homestead': 19.5, 'Stanton Heights': 21.7, 'Highland Park/Larimer': 25.0, 'Brookline': 35.7, 'Spring Hill': 38.800000000000004, 'West End': 47.199999999999974, 'Lincoln-Lemington-Belmar': 49.599999999999994, 'Duck Hollow': 102.3}\n"
     ]
    }
   ],
   "source": [
    "import math\n",
    "def isfloat(num): #checking for floating point values\n",
    "    try:\n",
    "        float(num)\n",
    "        return True\n",
    "    except ValueError:\n",
    "        return False\n",
    "def isNaN(num):\n",
    "    return num!= num #checking for NaNs\n",
    "\n",
    "nhood_data = dict()\n",
    "for index, row in correct_neighborhoods.iterrows():\n",
    "    nhood = row['Neighborhood']\n",
    "    estimated_tons = row['estimated_tons']\n",
    "    if(isfloat(estimated_tons)):\n",
    "        if(nhood not in nhood_data):\n",
    "            nhood_data[nhood] = float(estimated_tons)\n",
    "        else:\n",
    "            nhood_data[nhood]+= float(estimated_tons)\n",
    "filtered_dict = dict(filter(lambda x: not math.isnan(x[1]), nhood_data.items()))\n",
    "#for x in nhood_data.keys():\n",
    "    #if(isNaN(x)):\n",
    "        #del(x)\n",
    "print(filtered_dict)\n",
    "nhoodData = dict(sorted(filtered_dict.items(), key=lambda x:x[1]))\n",
    "print(nhoodData)"
   ]
  },
  {
   "cell_type": "code",
   "execution_count": 4,
   "metadata": {},
   "outputs": [
    {
     "data": {
      "image/png": "[encoded data removed]",
      "text/plain": [
       "<Figure size 432x288 with 1 Axes>"
      ]
     },
     "metadata": {
      "needs_background": "light"
     },
     "output_type": "display_data"
    }
   ],
   "source": [
    "import matplotlib.pyplot as plt\n",
    "firstHalf = dict(list(nhoodData.items())[len(nhoodData)//2:])\n",
    "secondHalf = dict(list(nhoodData.items())[:len(nhoodData)//2])\n",
    "nhood = list(firstHalf.keys())\n",
    "values = list(firstHalf.values())\n",
    "plt.bar(nhood, values)\n",
    "plt.xlabel('Neighborhood')\n",
    "plt.ylabel('Estimated Tons')\n",
    "plt.title('Illegal Dump Site Amounts: Top Half')\n",
    "plt.xticks(rotation = 'vertical')\n",
    "plt.tight_layout()\n",
    "plt.show()"
   ]
  },
  {
   "cell_type": "code",
   "execution_count": 5,
   "metadata": {},
   "outputs": [
    {
     "data": {
      "image/png": "[encoded data removed]",
      "text/plain": [
       "<Figure size 432x288 with 1 Axes>"
      ]
     },
     "metadata": {
      "needs_background": "light"
     },
     "output_type": "display_data"
    }
   ],
   "source": [
    "import matplotlib.pyplot as plt\n",
    "secondHalf = dict(list(nhoodData.items())[:len(nhoodData)//2])\n",
    "nhood = list(secondHalf.keys())\n",
    "values = list(secondHalf.values())\n",
    "plt.bar(nhood, values)\n",
    "plt.xlabel('Neighborhood')\n",
    "plt.ylabel('Estimated Tons')\n",
    "plt.title('Illegal Dump Site Amounts: Bottom Half')\n",
    "plt.xticks(rotation = 'vertical')\n",
    "plt.tight_layout()\n",
    "plt.show()"
   ]
  },
  {
   "cell_type": "markdown",
   "metadata": {},
   "source": [
    "Steps that I took in order to clean up the data:\n",
    "    1) Create a subset of only data points that were located in the city of Pittsburgh\n",
    "    2) Drop any columns that weren't related to location or estimated size\n",
    "    3) Create a dictionary, iterate through the subset and sum all of the values that were logged for each neighborhood\n",
    "    4) Filter through the dictionary and remove any values that had a key with no value\n",
    "    5) Sort through the dictionary and place the values in descending order"
   ]
  }
 ],
 "metadata": {
  "kernelspec": {
   "display_name": "Python 3",
   "language": "python",
   "name": "python3"
  },
  "language_info": {
   "codemirror_mode": {
    "name": "ipython",
    "version": 3
   },
   "file_extension": ".py",
   "mimetype": "text/x-python",
   "name": "python",
   "nbconvert_exporter": "python",
   "pygments_lexer": "ipython3",
   "version": "3.8.3"
  }
 },
 "nbformat": 4,
 "nbformat_minor": 4
}
